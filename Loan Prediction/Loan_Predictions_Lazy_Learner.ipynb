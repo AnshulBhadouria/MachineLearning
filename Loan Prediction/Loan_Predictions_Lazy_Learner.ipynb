{
 "cells": [
  {
   "cell_type": "code",
   "execution_count": 1,
   "id": "4e956e8f",
   "metadata": {},
   "outputs": [],
   "source": [
    "import pandas as pd\n",
    "import numpy as np\n",
    "import matplotlib.pyplot as plt\n",
    "import seaborn as sns\n",
    "import statistics as stat\n",
    "from scipy import stats as scipystats\n",
    "from pathlib import Path\n",
    "pd.set_option('display.max_columns',None)\n",
    "pd.set_option('display.max_rows',None)\n",
    "%matplotlib inline"
   ]
  },
  {
   "cell_type": "code",
   "execution_count": 2,
   "id": "02b063e9",
   "metadata": {},
   "outputs": [],
   "source": [
    "data_train = pd.read_csv('train_ctrUa4K.csv')\n",
    "data_test = pd.read_csv('test_lAUu6dG.csv')\n",
    "data_train.drop('Loan_ID',axis=1,inplace = True)\n",
    "data_test_LoanID = data_test['Loan_ID']\n",
    "data_test.drop('Loan_ID',axis=1,inplace = True)"
   ]
  },
  {
   "cell_type": "code",
   "execution_count": 3,
   "id": "95058631",
   "metadata": {},
   "outputs": [
    {
     "data": {
      "text/plain": [
       "['Gender',\n",
       " 'Married',\n",
       " 'Dependents',\n",
       " 'Education',\n",
       " 'Self_Employed',\n",
       " 'ApplicantIncome',\n",
       " 'CoapplicantIncome',\n",
       " 'LoanAmount',\n",
       " 'Loan_Amount_Term',\n",
       " 'Credit_History',\n",
       " 'Property_Area',\n",
       " 'Loan_Status']"
      ]
     },
     "execution_count": 3,
     "metadata": {},
     "output_type": "execute_result"
    }
   ],
   "source": [
    "data_train.columns.values.tolist()"
   ]
  },
  {
   "cell_type": "code",
   "execution_count": 4,
   "id": "617cf650",
   "metadata": {},
   "outputs": [
    {
     "data": {
      "text/plain": [
       "Index(['Gender', 'Married', 'Dependents', 'Self_Employed', 'LoanAmount',\n",
       "       'Loan_Amount_Term', 'Credit_History'],\n",
       "      dtype='object')"
      ]
     },
     "execution_count": 4,
     "metadata": {},
     "output_type": "execute_result"
    }
   ],
   "source": [
    "data_train.columns[data_train.isnull().any(axis=0)]"
   ]
  },
  {
   "cell_type": "code",
   "execution_count": 5,
   "id": "fb9abfe7",
   "metadata": {},
   "outputs": [
    {
     "data": {
      "text/plain": [
       "(614, 12)"
      ]
     },
     "execution_count": 5,
     "metadata": {},
     "output_type": "execute_result"
    }
   ],
   "source": [
    "data_train.shape"
   ]
  },
  {
   "cell_type": "code",
   "execution_count": 6,
   "id": "7a52f560",
   "metadata": {},
   "outputs": [],
   "source": [
    "data_train['Dependents'] = data_train['Dependents'].str.rstrip('+').fillna(data_train['Dependents'].mode()[0]).astype('int32')\n",
    "data_train.dtypes\n",
    "data_test['Dependents'] = data_test['Dependents'].str.rstrip('+').fillna(data_test['Dependents'].mode()[0]).astype('int32')"
   ]
  },
  {
   "cell_type": "code",
   "execution_count": 7,
   "id": "7a940ae7",
   "metadata": {},
   "outputs": [
    {
     "data": {
      "text/plain": [
       "['Gender',\n",
       " 'Married',\n",
       " 'Education',\n",
       " 'Self_Employed',\n",
       " 'Property_Area',\n",
       " 'Loan_Status']"
      ]
     },
     "execution_count": 7,
     "metadata": {},
     "output_type": "execute_result"
    }
   ],
   "source": [
    "data_train_cat_feat = [c for c in data_train.columns.values.tolist() if data_train[c].dtypes == \"object\"]\n",
    "data_train_cat_feat"
   ]
  },
  {
   "cell_type": "code",
   "execution_count": 8,
   "id": "2c10797a",
   "metadata": {},
   "outputs": [
    {
     "data": {
      "text/plain": [
       "['Dependents',\n",
       " 'ApplicantIncome',\n",
       " 'CoapplicantIncome',\n",
       " 'LoanAmount',\n",
       " 'Loan_Amount_Term',\n",
       " 'Credit_History']"
      ]
     },
     "execution_count": 8,
     "metadata": {},
     "output_type": "execute_result"
    }
   ],
   "source": [
    "data_train_num_feat = [c for c in data_train.columns.values.tolist() if data_train[c].dtypes != \"object\"]\n",
    "data_train_num_feat"
   ]
  },
  {
   "cell_type": "code",
   "execution_count": 9,
   "id": "890308f1",
   "metadata": {},
   "outputs": [],
   "source": [
    "def df_null_values(df):\n",
    "    col_percnt_null_value = df.apply(lambda c : c.isnull().sum()/c.isnull().count())\n",
    "    return col_percnt_null_value"
   ]
  },
  {
   "cell_type": "markdown",
   "id": "4903c5c2",
   "metadata": {},
   "source": [
    "# Impute NAN Values"
   ]
  },
  {
   "cell_type": "code",
   "execution_count": 10,
   "id": "60dc87e5",
   "metadata": {},
   "outputs": [
    {
     "name": "stdout",
     "output_type": "stream",
     "text": [
      "data_train\n",
      "Gender               0.021173\n",
      "Married              0.004886\n",
      "Dependents           0.000000\n",
      "Education            0.000000\n",
      "Self_Employed        0.052117\n",
      "ApplicantIncome      0.000000\n",
      "CoapplicantIncome    0.000000\n",
      "LoanAmount           0.035831\n",
      "Loan_Amount_Term     0.022801\n",
      "Credit_History       0.081433\n",
      "Property_Area        0.000000\n",
      "Loan_Status          0.000000\n",
      "dtype: float64\n",
      "++++++++++++++++++++++++++++++++++++++++++++++++++++++++++++++++++++++\n",
      "data_test\n",
      "Gender               0.029973\n",
      "Married              0.000000\n",
      "Dependents           0.000000\n",
      "Education            0.000000\n",
      "Self_Employed        0.062670\n",
      "ApplicantIncome      0.000000\n",
      "CoapplicantIncome    0.000000\n",
      "LoanAmount           0.013624\n",
      "Loan_Amount_Term     0.016349\n",
      "Credit_History       0.079019\n",
      "Property_Area        0.000000\n",
      "dtype: float64\n",
      "++++++++++++++++++++++++++++++++++++++++++++++++++++++++++++++++++++++\n"
     ]
    }
   ],
   "source": [
    "for df in [data_train,data_test]:\n",
    "    nulls = df_null_values(df)\n",
    "    print(name :=[x for x in globals() if globals()[x] is df][0])\n",
    "    print(nulls)\n",
    "    print('+'*70)"
   ]
  },
  {
   "cell_type": "code",
   "execution_count": 11,
   "id": "cd465d46",
   "metadata": {},
   "outputs": [],
   "source": [
    "#Impute Numerical Features\n",
    "col_to_drop=[]\n",
    "for df in [data_train,data_test]:\n",
    "    df_num_feat = [c for c in df.columns.values.tolist() if df[c].dtypes != \"object\"]\n",
    "    for c in df_num_feat:\n",
    "        if df[c].isnull().sum()>0:\n",
    "            col_to_drop.append(c)\n",
    "            df[c] = df.groupby('Education')[c].transform(lambda x : x.fillna(np.mean(x)))   "
   ]
  },
  {
   "cell_type": "code",
   "execution_count": 12,
   "id": "c0f5b387",
   "metadata": {},
   "outputs": [
    {
     "name": "stdout",
     "output_type": "stream",
     "text": [
      "data_train\n",
      "Gender               0.021173\n",
      "Married              0.004886\n",
      "Dependents           0.000000\n",
      "Education            0.000000\n",
      "Self_Employed        0.052117\n",
      "ApplicantIncome      0.000000\n",
      "CoapplicantIncome    0.000000\n",
      "LoanAmount           0.000000\n",
      "Loan_Amount_Term     0.000000\n",
      "Credit_History       0.000000\n",
      "Property_Area        0.000000\n",
      "Loan_Status          0.000000\n",
      "dtype: float64\n",
      "++++++++++++++++++++++++++++++++++++++++++++++++++++++++++++++++++++++\n",
      "data_test\n",
      "Gender               0.029973\n",
      "Married              0.000000\n",
      "Dependents           0.000000\n",
      "Education            0.000000\n",
      "Self_Employed        0.062670\n",
      "ApplicantIncome      0.000000\n",
      "CoapplicantIncome    0.000000\n",
      "LoanAmount           0.000000\n",
      "Loan_Amount_Term     0.000000\n",
      "Credit_History       0.000000\n",
      "Property_Area        0.000000\n",
      "dtype: float64\n",
      "++++++++++++++++++++++++++++++++++++++++++++++++++++++++++++++++++++++\n"
     ]
    }
   ],
   "source": [
    "for df in [data_train,data_test]:\n",
    "    nulls = df_null_values(df)\n",
    "    print(name :=[x for x in globals() if globals()[x] is df][0])\n",
    "    print(nulls)\n",
    "    print('+'*70)"
   ]
  },
  {
   "cell_type": "code",
   "execution_count": 13,
   "id": "e55f6823",
   "metadata": {},
   "outputs": [],
   "source": [
    "#Impute Cat Features\n",
    "col_to_drop=[]\n",
    "for df in [data_train,data_test]:\n",
    "    df_cat_feat = [c for c in df.columns.values.tolist() if df[c].dtypes == \"object\"]\n",
    "    for c in df_cat_feat:\n",
    "        if df[c].isnull().sum()>0 and c!=\"Married\" :\n",
    "            col_to_drop.append(c)\n",
    "            df[c] = df[c].astype('string')\n",
    "            df[c] = df[c].fillna('Blank')\n",
    "            df[c] = df[c].astype('object')"
   ]
  },
  {
   "cell_type": "code",
   "execution_count": 14,
   "id": "13b75276",
   "metadata": {},
   "outputs": [
    {
     "name": "stdout",
     "output_type": "stream",
     "text": [
      "data_train\n",
      "Gender               0.000000\n",
      "Married              0.004886\n",
      "Dependents           0.000000\n",
      "Education            0.000000\n",
      "Self_Employed        0.000000\n",
      "ApplicantIncome      0.000000\n",
      "CoapplicantIncome    0.000000\n",
      "LoanAmount           0.000000\n",
      "Loan_Amount_Term     0.000000\n",
      "Credit_History       0.000000\n",
      "Property_Area        0.000000\n",
      "Loan_Status          0.000000\n",
      "dtype: float64\n",
      "++++++++++++++++++++++++++++++++++++++++++++++++++++++++++++++++++++++\n",
      "data_test\n",
      "Gender               0.0\n",
      "Married              0.0\n",
      "Dependents           0.0\n",
      "Education            0.0\n",
      "Self_Employed        0.0\n",
      "ApplicantIncome      0.0\n",
      "CoapplicantIncome    0.0\n",
      "LoanAmount           0.0\n",
      "Loan_Amount_Term     0.0\n",
      "Credit_History       0.0\n",
      "Property_Area        0.0\n",
      "dtype: float64\n",
      "++++++++++++++++++++++++++++++++++++++++++++++++++++++++++++++++++++++\n"
     ]
    }
   ],
   "source": [
    "for df in [data_train,data_test]:\n",
    "    nulls = df_null_values(df)\n",
    "    print(name :=[x for x in globals() if globals()[x] is df][0])\n",
    "    print(nulls)\n",
    "    print('+'*70)"
   ]
  },
  {
   "cell_type": "code",
   "execution_count": 15,
   "id": "f7d3339a",
   "metadata": {},
   "outputs": [
    {
     "data": {
      "text/plain": [
       "(611, 12)"
      ]
     },
     "execution_count": 15,
     "metadata": {},
     "output_type": "execute_result"
    }
   ],
   "source": [
    "data_train.dropna(inplace = True)\n",
    "data_train.shape"
   ]
  },
  {
   "cell_type": "markdown",
   "id": "f5a4d514",
   "metadata": {},
   "source": [
    "# Encode Data"
   ]
  },
  {
   "cell_type": "code",
   "execution_count": 16,
   "id": "11b803f7",
   "metadata": {},
   "outputs": [],
   "source": [
    "data_train_IF = data_train\n",
    "data_train_IF_ENC = pd.get_dummies(data_train_IF,drop_first=True)"
   ]
  },
  {
   "cell_type": "code",
   "execution_count": 17,
   "id": "d2e21985",
   "metadata": {},
   "outputs": [],
   "source": [
    "data_test_IF=data_test\n",
    "data_test_IF_ENC = pd.get_dummies(data_test_IF , drop_first=True)"
   ]
  },
  {
   "cell_type": "code",
   "execution_count": 18,
   "id": "5aa25e38",
   "metadata": {},
   "outputs": [
    {
     "data": {
      "text/plain": [
       "['Dependents',\n",
       " 'ApplicantIncome',\n",
       " 'CoapplicantIncome',\n",
       " 'LoanAmount',\n",
       " 'Loan_Amount_Term',\n",
       " 'Credit_History',\n",
       " 'Gender_Female',\n",
       " 'Gender_Male',\n",
       " 'Married_Yes',\n",
       " 'Education_Not Graduate',\n",
       " 'Self_Employed_No',\n",
       " 'Self_Employed_Yes',\n",
       " 'Property_Area_Semiurban',\n",
       " 'Property_Area_Urban',\n",
       " 'Loan_Status_Y']"
      ]
     },
     "execution_count": 18,
     "metadata": {},
     "output_type": "execute_result"
    }
   ],
   "source": [
    "data_train_IF_ENC.columns.values.tolist()"
   ]
  },
  {
   "cell_type": "code",
   "execution_count": 19,
   "id": "fb6979de",
   "metadata": {},
   "outputs": [],
   "source": [
    "data_train_target = data_train_IF_ENC['Loan_Status_Y']\n",
    "data_train_IF_ENC.drop(labels='Loan_Status_Y',axis=1,inplace=True)"
   ]
  },
  {
   "cell_type": "code",
   "execution_count": 20,
   "id": "ce2094b2",
   "metadata": {},
   "outputs": [
    {
     "data": {
      "text/plain": [
       "14"
      ]
     },
     "execution_count": 20,
     "metadata": {},
     "output_type": "execute_result"
    }
   ],
   "source": [
    "len(data_train_IF_ENC.columns.values.tolist())"
   ]
  },
  {
   "cell_type": "code",
   "execution_count": 21,
   "id": "fec45273",
   "metadata": {},
   "outputs": [
    {
     "data": {
      "text/plain": [
       "14"
      ]
     },
     "execution_count": 21,
     "metadata": {},
     "output_type": "execute_result"
    }
   ],
   "source": [
    "len(data_test_IF_ENC.columns.values.tolist())"
   ]
  },
  {
   "cell_type": "markdown",
   "id": "76beaa70",
   "metadata": {},
   "source": [
    "# Fix Feature Skewness"
   ]
  },
  {
   "cell_type": "code",
   "execution_count": 22,
   "id": "92ad9757",
   "metadata": {},
   "outputs": [
    {
     "data": {
      "text/plain": [
       "<seaborn.axisgrid.PairGrid at 0x266a90a1280>"
      ]
     },
     "execution_count": 22,
     "metadata": {},
     "output_type": "execute_result"
    },
    {
     "data": {
      "image/png": "[encoded data removed]",
      "text/plain": [
       "<Figure size 540x540 with 12 Axes>"
      ]
     },
     "metadata": {
      "needs_background": "light"
     },
     "output_type": "display_data"
    }
   ],
   "source": [
    "#sns.pairplot(data_train_IF_ENC[['AI','AL','AI2','AI X AL','AL2']])\n",
    "sns.pairplot(data_train_IF_ENC[['LoanAmount','CoapplicantIncome','ApplicantIncome']])"
   ]
  },
  {
   "cell_type": "code",
   "execution_count": 23,
   "id": "ea55955a",
   "metadata": {},
   "outputs": [],
   "source": [
    "def log_transformation(num_col):\n",
    "    return np.log((1+num_col))    "
   ]
  },
  {
   "cell_type": "code",
   "execution_count": 24,
   "id": "05f0f472",
   "metadata": {},
   "outputs": [],
   "source": [
    "#log_transform_col = ['AI','AL','AI2','AI X AL','AL2','CoapplicantIncome']\n",
    "log_transform_col = ['LoanAmount','CoapplicantIncome','ApplicantIncome']"
   ]
  },
  {
   "cell_type": "code",
   "execution_count": 25,
   "id": "ab368171",
   "metadata": {},
   "outputs": [
    {
     "data": {
      "text/plain": [
       "['Dependents',\n",
       " 'ApplicantIncome',\n",
       " 'CoapplicantIncome',\n",
       " 'LoanAmount',\n",
       " 'Loan_Amount_Term',\n",
       " 'Credit_History',\n",
       " 'Gender_Female',\n",
       " 'Gender_Male',\n",
       " 'Married_Yes',\n",
       " 'Education_Not Graduate',\n",
       " 'Self_Employed_No',\n",
       " 'Self_Employed_Yes',\n",
       " 'Property_Area_Semiurban',\n",
       " 'Property_Area_Urban',\n",
       " 'LoanAmountlog',\n",
       " 'CoapplicantIncomelog',\n",
       " 'ApplicantIncomelog']"
      ]
     },
     "execution_count": 25,
     "metadata": {},
     "output_type": "execute_result"
    }
   ],
   "source": [
    "for df in [data_train_IF_ENC,data_test_IF_ENC]:\n",
    "    for col in log_transform_col:\n",
    "        df[str(col) + 'log'] = log_transformation(df[col])\n",
    "data_train_IF_ENC.columns.values.tolist()    "
   ]
  },
  {
   "cell_type": "code",
   "execution_count": 26,
   "id": "1b3793ac",
   "metadata": {},
   "outputs": [
    {
     "data": {
      "text/plain": [
       "<seaborn.axisgrid.PairGrid at 0x266ae561490>"
      ]
     },
     "execution_count": 26,
     "metadata": {},
     "output_type": "execute_result"
    },
    {
     "data": {
      "image/png": "[encoded data removed]",
      "text/plain": [
       "<Figure size 540x540 with 12 Axes>"
      ]
     },
     "metadata": {
      "needs_background": "light"
     },
     "output_type": "display_data"
    }
   ],
   "source": [
    "#sns.pairplot(data_train_IF_ENC[['AIlog','ALlog','AI2log','AI X ALlog','AL2log']])\n",
    "sns.pairplot(data_train_IF_ENC[['LoanAmountlog','CoapplicantIncomelog','ApplicantIncomelog']])"
   ]
  },
  {
   "cell_type": "code",
   "execution_count": 27,
   "id": "730acf6e",
   "metadata": {},
   "outputs": [],
   "source": [
    "#data_train_IF_ENC_LOG = data_train_IF_ENC.drop(['AI','AL','AI2','AI X AL','AL2','CoapplicantIncome'],axis=1)\n",
    "data_train_IF_ENC_LOG = data_train_IF_ENC.drop(log_transform_col,axis=1)"
   ]
  },
  {
   "cell_type": "code",
   "execution_count": 28,
   "id": "bafb114d",
   "metadata": {},
   "outputs": [],
   "source": [
    "#data_test_IF_ENC_LOG = data_test_IF_ENC.drop(['AI','AL','AI2','AI X AL','AL2','CoapplicantIncome'],axis=1)\n",
    "data_test_IF_ENC_LOG = data_test_IF_ENC.drop(log_transform_col,axis=1)"
   ]
  },
  {
   "cell_type": "markdown",
   "id": "9909edbb",
   "metadata": {},
   "source": [
    "# Standardize Dataframes\n"
   ]
  },
  {
   "cell_type": "code",
   "execution_count": 29,
   "id": "c5c80ea7",
   "metadata": {},
   "outputs": [],
   "source": [
    "from sklearn.preprocessing import MinMaxScaler"
   ]
  },
  {
   "cell_type": "code",
   "execution_count": 30,
   "id": "34afb4ff",
   "metadata": {},
   "outputs": [],
   "source": [
    "mms = MinMaxScaler()\n",
    "data_train_mms_arr = mms.fit_transform(data_train_IF_ENC_LOG)"
   ]
  },
  {
   "cell_type": "code",
   "execution_count": 31,
   "id": "8bf3de24",
   "metadata": {},
   "outputs": [],
   "source": [
    "data_train_IF_ENC_LOG_MMS = pd.DataFrame(data=data_train_mms_arr,columns=data_train_IF_ENC_LOG.columns)"
   ]
  },
  {
   "cell_type": "code",
   "execution_count": 32,
   "id": "0119ce2e",
   "metadata": {},
   "outputs": [],
   "source": [
    "data_test_mms_arr = mms.fit_transform(data_test_IF_ENC_LOG)"
   ]
  },
  {
   "cell_type": "code",
   "execution_count": 33,
   "id": "cce0b33d",
   "metadata": {},
   "outputs": [],
   "source": [
    "data_test_IF_ENC_LOG_MMS = pd.DataFrame(data=data_test_mms_arr,columns=data_test_IF_ENC_LOG.columns)"
   ]
  },
  {
   "cell_type": "code",
   "execution_count": 34,
   "id": "8dfd2dc9",
   "metadata": {},
   "outputs": [],
   "source": [
    "#sns.pairplot(data_train_IF_ENC_LOG_MMS[['AIlog','ALlog','AI2log','AI X ALlog','AL2log']])"
   ]
  },
  {
   "cell_type": "markdown",
   "id": "cbb18d3f",
   "metadata": {},
   "source": [
    "# Feature Selection usin SlectKBest"
   ]
  },
  {
   "cell_type": "code",
   "execution_count": 356,
   "id": "ce4fc9e2",
   "metadata": {},
   "outputs": [
    {
     "data": {
      "text/plain": [
       "SelectKBest(k=2, score_func=<function chi2 at 0x00000266AF550AF0>)"
      ]
     },
     "execution_count": 356,
     "metadata": {},
     "output_type": "execute_result"
    }
   ],
   "source": [
    "from sklearn.feature_selection import chi2,SelectKBest\n",
    "skb = SelectKBest(score_func=chi2, k = 2)\n",
    "skb.fit(data_train_IF_ENC_LOG_MMS,data_train_target)\n"
   ]
  },
  {
   "cell_type": "code",
   "execution_count": 357,
   "id": "2d5734fa",
   "metadata": {},
   "outputs": [
    {
     "data": {
      "text/plain": [
       "[('Credit_History', 25.909858844923036),\n",
       " ('Property_Area_Semiurban', 6.941870331339304),\n",
       " ('Education_Not Graduate', 3.3886667497833027),\n",
       " ('Married_Yes', 1.6978141315667465),\n",
       " ('Property_Area_Urban', 0.7868553636946538),\n",
       " ('CoapplicantIncomelog', 0.7849071319788421),\n",
       " ('Gender_Female', 0.1878024728188814),\n",
       " ('Gender_Male', 0.0877354780375681),\n",
       " ('Dependents', 0.04404234898717403),\n",
       " ('LoanAmountlog', 0.02141924771751512),\n",
       " ('Loan_Amount_Term', 0.007533075788641762),\n",
       " ('Self_Employed_No', 0.006327968807274702),\n",
       " ('Self_Employed_Yes', 0.00305666317403033),\n",
       " ('ApplicantIncomelog', 0.0010832675075729732)]"
      ]
     },
     "execution_count": 357,
     "metadata": {},
     "output_type": "execute_result"
    }
   ],
   "source": [
    "feature_selection  = [(item , score) for item,score in zip(data_train_IF_ENC_LOG_MMS.columns.values,skb.scores_)]\n",
    "sorted(feature_selection,key = lambda x : -x[1])[:15]"
   ]
  },
  {
   "cell_type": "code",
   "execution_count": 358,
   "id": "18132f25",
   "metadata": {},
   "outputs": [
    {
     "data": {
      "text/plain": [
       "array([False, False,  True, False, False, False, False, False, False,\n",
       "        True, False, False, False, False])"
      ]
     },
     "execution_count": 358,
     "metadata": {},
     "output_type": "execute_result"
    }
   ],
   "source": [
    "select_names_kbest = skb.get_support()\n",
    "select_names_kbest"
   ]
  },
  {
   "cell_type": "code",
   "execution_count": 359,
   "id": "9aa1f202",
   "metadata": {},
   "outputs": [
    {
     "data": {
      "text/plain": [
       "Index(['Credit_History', 'Property_Area_Semiurban'], dtype='object')"
      ]
     },
     "execution_count": 359,
     "metadata": {},
     "output_type": "execute_result"
    }
   ],
   "source": [
    "feature_names_kbest = data_train_IF_ENC_LOG_MMS.columns[select_names_kbest]\n",
    "feature_names_kbest"
   ]
  },
  {
   "cell_type": "code",
   "execution_count": 360,
   "id": "72a9dea2",
   "metadata": {},
   "outputs": [
    {
     "data": {
      "text/plain": [
       "(367, 2)"
      ]
     },
     "execution_count": 360,
     "metadata": {},
     "output_type": "execute_result"
    }
   ],
   "source": [
    "data_train_IF_ENC_LOG_MMS_KBest = data_train_IF_ENC_LOG_MMS[feature_names_kbest]\n",
    "data_test_IF_ENC_LOG_MMS_KBest = data_test_IF_ENC_LOG_MMS[feature_names_kbest]\n",
    "data_train_IF_ENC_LOG_MMS_KBest.shape\n",
    "data_test_IF_ENC_LOG_MMS_KBest.shape"
   ]
  },
  {
   "cell_type": "markdown",
   "id": "00e0797b",
   "metadata": {},
   "source": [
    "# Lazy Learner"
   ]
  },
  {
   "cell_type": "code",
   "execution_count": 361,
   "id": "968a8e55",
   "metadata": {},
   "outputs": [],
   "source": [
    "from lazypredict.Supervised import LazyClassifier\n",
    "from sklearn.model_selection import train_test_split"
   ]
  },
  {
   "cell_type": "code",
   "execution_count": 362,
   "id": "91391e3a",
   "metadata": {},
   "outputs": [],
   "source": [
    "X_train,y_train,X_test,y_test= train_test_split(data_train_IF_ENC_LOG_MMS_KBest,data_train_target,test_size=0.1)"
   ]
  },
  {
   "cell_type": "code",
   "execution_count": 363,
   "id": "4947dab3",
   "metadata": {},
   "outputs": [],
   "source": [
    "clf_ = LazyClassifier()"
   ]
  },
  {
   "cell_type": "code",
   "execution_count": 364,
   "id": "180f216e",
   "metadata": {},
   "outputs": [
    {
     "name": "stderr",
     "output_type": "stream",
     "text": [
      "100%|██████████| 29/29 [00:01<00:00, 15.84it/s]\n"
     ]
    },
    {
     "data": {
      "text/plain": [
       "(                               Accuracy  Balanced Accuracy  ROC AUC  F1 Score  \\\n",
       " Model                                                                           \n",
       " BernoulliNB                        0.84               0.76     0.76      0.83   \n",
       " AdaBoostClassifier                 0.84               0.75     0.75      0.82   \n",
       " LogisticRegression                 0.84               0.75     0.75      0.82   \n",
       " XGBClassifier                      0.84               0.75     0.75      0.82   \n",
       " SVC                                0.84               0.75     0.75      0.82   \n",
       " SGDClassifier                      0.84               0.75     0.75      0.82   \n",
       " RidgeClassifierCV                  0.84               0.75     0.75      0.82   \n",
       " RidgeClassifier                    0.84               0.75     0.75      0.82   \n",
       " RandomForestClassifier             0.84               0.75     0.75      0.82   \n",
       " QuadraticDiscriminantAnalysis      0.84               0.75     0.75      0.82   \n",
       " Perceptron                         0.84               0.75     0.75      0.82   \n",
       " NuSVC                              0.84               0.75     0.75      0.82   \n",
       " NearestCentroid                    0.84               0.75     0.75      0.82   \n",
       " LinearSVC                          0.84               0.75     0.75      0.82   \n",
       " BaggingClassifier                  0.84               0.75     0.75      0.82   \n",
       " LinearDiscriminantAnalysis         0.84               0.75     0.75      0.82   \n",
       " LabelSpreading                     0.84               0.75     0.75      0.82   \n",
       " LabelPropagation                   0.84               0.75     0.75      0.82   \n",
       " KNeighborsClassifier               0.84               0.75     0.75      0.82   \n",
       " GaussianNB                         0.84               0.75     0.75      0.82   \n",
       " ExtraTreesClassifier               0.84               0.75     0.75      0.82   \n",
       " ExtraTreeClassifier                0.84               0.75     0.75      0.82   \n",
       " DecisionTreeClassifier             0.84               0.75     0.75      0.82   \n",
       " CalibratedClassifierCV             0.84               0.75     0.75      0.82   \n",
       " LGBMClassifier                     0.84               0.75     0.75      0.82   \n",
       " PassiveAggressiveClassifier        0.32               0.50     0.50      0.16   \n",
       " DummyClassifier                    0.68               0.50     0.50      0.55   \n",
       " \n",
       "                                Time Taken  \n",
       " Model                                      \n",
       " BernoulliNB                          0.01  \n",
       " AdaBoostClassifier                   0.16  \n",
       " LogisticRegression                   0.01  \n",
       " XGBClassifier                        0.60  \n",
       " SVC                                  0.02  \n",
       " SGDClassifier                        0.01  \n",
       " RidgeClassifierCV                    0.02  \n",
       " RidgeClassifier                      0.03  \n",
       " RandomForestClassifier               0.11  \n",
       " QuadraticDiscriminantAnalysis        0.03  \n",
       " Perceptron                           0.02  \n",
       " NuSVC                                0.04  \n",
       " NearestCentroid                      0.01  \n",
       " LinearSVC                            0.02  \n",
       " BaggingClassifier                    0.05  \n",
       " LinearDiscriminantAnalysis           0.02  \n",
       " LabelSpreading                       0.02  \n",
       " LabelPropagation                     0.05  \n",
       " KNeighborsClassifier                 0.01  \n",
       " GaussianNB                           0.02  \n",
       " ExtraTreesClassifier                 0.10  \n",
       " ExtraTreeClassifier                  0.01  \n",
       " DecisionTreeClassifier               0.01  \n",
       " CalibratedClassifierCV               0.26  \n",
       " LGBMClassifier                       0.11  \n",
       " PassiveAggressiveClassifier          0.05  \n",
       " DummyClassifier                      0.01  ,\n",
       "                                Accuracy  Balanced Accuracy  ROC AUC  F1 Score  \\\n",
       " Model                                                                           \n",
       " BernoulliNB                        0.84               0.76     0.76      0.83   \n",
       " AdaBoostClassifier                 0.84               0.75     0.75      0.82   \n",
       " LogisticRegression                 0.84               0.75     0.75      0.82   \n",
       " XGBClassifier                      0.84               0.75     0.75      0.82   \n",
       " SVC                                0.84               0.75     0.75      0.82   \n",
       " SGDClassifier                      0.84               0.75     0.75      0.82   \n",
       " RidgeClassifierCV                  0.84               0.75     0.75      0.82   \n",
       " RidgeClassifier                    0.84               0.75     0.75      0.82   \n",
       " RandomForestClassifier             0.84               0.75     0.75      0.82   \n",
       " QuadraticDiscriminantAnalysis      0.84               0.75     0.75      0.82   \n",
       " Perceptron                         0.84               0.75     0.75      0.82   \n",
       " NuSVC                              0.84               0.75     0.75      0.82   \n",
       " NearestCentroid                    0.84               0.75     0.75      0.82   \n",
       " LinearSVC                          0.84               0.75     0.75      0.82   \n",
       " BaggingClassifier                  0.84               0.75     0.75      0.82   \n",
       " LinearDiscriminantAnalysis         0.84               0.75     0.75      0.82   \n",
       " LabelSpreading                     0.84               0.75     0.75      0.82   \n",
       " LabelPropagation                   0.84               0.75     0.75      0.82   \n",
       " KNeighborsClassifier               0.84               0.75     0.75      0.82   \n",
       " GaussianNB                         0.84               0.75     0.75      0.82   \n",
       " ExtraTreesClassifier               0.84               0.75     0.75      0.82   \n",
       " ExtraTreeClassifier                0.84               0.75     0.75      0.82   \n",
       " DecisionTreeClassifier             0.84               0.75     0.75      0.82   \n",
       " CalibratedClassifierCV             0.84               0.75     0.75      0.82   \n",
       " LGBMClassifier                     0.84               0.75     0.75      0.82   \n",
       " PassiveAggressiveClassifier        0.32               0.50     0.50      0.16   \n",
       " DummyClassifier                    0.68               0.50     0.50      0.55   \n",
       " \n",
       "                                Time Taken  \n",
       " Model                                      \n",
       " BernoulliNB                          0.01  \n",
       " AdaBoostClassifier                   0.16  \n",
       " LogisticRegression                   0.01  \n",
       " XGBClassifier                        0.60  \n",
       " SVC                                  0.02  \n",
       " SGDClassifier                        0.01  \n",
       " RidgeClassifierCV                    0.02  \n",
       " RidgeClassifier                      0.03  \n",
       " RandomForestClassifier               0.11  \n",
       " QuadraticDiscriminantAnalysis        0.03  \n",
       " Perceptron                           0.02  \n",
       " NuSVC                                0.04  \n",
       " NearestCentroid                      0.01  \n",
       " LinearSVC                            0.02  \n",
       " BaggingClassifier                    0.05  \n",
       " LinearDiscriminantAnalysis           0.02  \n",
       " LabelSpreading                       0.02  \n",
       " LabelPropagation                     0.05  \n",
       " KNeighborsClassifier                 0.01  \n",
       " GaussianNB                           0.02  \n",
       " ExtraTreesClassifier                 0.10  \n",
       " ExtraTreeClassifier                  0.01  \n",
       " DecisionTreeClassifier               0.01  \n",
       " CalibratedClassifierCV               0.26  \n",
       " LGBMClassifier                       0.11  \n",
       " PassiveAggressiveClassifier          0.05  \n",
       " DummyClassifier                      0.01  )"
      ]
     },
     "execution_count": 364,
     "metadata": {},
     "output_type": "execute_result"
    }
   ],
   "source": [
    "clf_.fit(X_train,y_train,X_test,y_test)"
   ]
  },
  {
   "cell_type": "code",
   "execution_count": 342,
   "id": "cf2e4768",
   "metadata": {},
   "outputs": [
    {
     "data": {
      "text/plain": [
       "[('AdaBoostClassifier', sklearn.ensemble._weight_boosting.AdaBoostClassifier),\n",
       " ('BaggingClassifier', sklearn.ensemble._bagging.BaggingClassifier),\n",
       " ('BernoulliNB', sklearn.naive_bayes.BernoulliNB),\n",
       " ('CalibratedClassifierCV', sklearn.calibration.CalibratedClassifierCV),\n",
       " ('CategoricalNB', sklearn.naive_bayes.CategoricalNB),\n",
       " ('DecisionTreeClassifier', sklearn.tree._classes.DecisionTreeClassifier),\n",
       " ('DummyClassifier', sklearn.dummy.DummyClassifier),\n",
       " ('ExtraTreeClassifier', sklearn.tree._classes.ExtraTreeClassifier),\n",
       " ('ExtraTreesClassifier', sklearn.ensemble._forest.ExtraTreesClassifier),\n",
       " ('GaussianNB', sklearn.naive_bayes.GaussianNB),\n",
       " ('KNeighborsClassifier',\n",
       "  sklearn.neighbors._classification.KNeighborsClassifier),\n",
       " ('LabelPropagation',\n",
       "  sklearn.semi_supervised._label_propagation.LabelPropagation),\n",
       " ('LabelSpreading', sklearn.semi_supervised._label_propagation.LabelSpreading),\n",
       " ('LinearDiscriminantAnalysis',\n",
       "  sklearn.discriminant_analysis.LinearDiscriminantAnalysis),\n",
       " ('LinearSVC', sklearn.svm._classes.LinearSVC),\n",
       " ('LogisticRegression', sklearn.linear_model._logistic.LogisticRegression),\n",
       " ('NearestCentroid', sklearn.neighbors._nearest_centroid.NearestCentroid),\n",
       " ('NuSVC', sklearn.svm._classes.NuSVC),\n",
       " ('PassiveAggressiveClassifier',\n",
       "  sklearn.linear_model._passive_aggressive.PassiveAggressiveClassifier),\n",
       " ('Perceptron', sklearn.linear_model._perceptron.Perceptron),\n",
       " ('QuadraticDiscriminantAnalysis',\n",
       "  sklearn.discriminant_analysis.QuadraticDiscriminantAnalysis),\n",
       " ('RandomForestClassifier', sklearn.ensemble._forest.RandomForestClassifier),\n",
       " ('RidgeClassifier', sklearn.linear_model._ridge.RidgeClassifier),\n",
       " ('RidgeClassifierCV', sklearn.linear_model._ridge.RidgeClassifierCV),\n",
       " ('SGDClassifier', sklearn.linear_model._stochastic_gradient.SGDClassifier),\n",
       " ('SVC', sklearn.svm._classes.SVC),\n",
       " ('StackingClassifier', sklearn.ensemble._stacking.StackingClassifier),\n",
       " ('XGBClassifier', xgboost.sklearn.XGBClassifier),\n",
       " ('LGBMClassifier', lightgbm.sklearn.LGBMClassifier)]"
      ]
     },
     "execution_count": 342,
     "metadata": {},
     "output_type": "execute_result"
    }
   ],
   "source": [
    "clf_.classifiers"
   ]
  },
  {
   "cell_type": "markdown",
   "id": "b96f8bd8",
   "metadata": {},
   "source": [
    "# Model Evaluation"
   ]
  },
  {
   "cell_type": "code",
   "execution_count": 365,
   "id": "118fadef",
   "metadata": {},
   "outputs": [],
   "source": [
    "from sklearn.ensemble._weight_boosting import AdaBoostClassifier\n",
    "from sklearn.neighbors import KNeighborsClassifier\n",
    "from sklearn.linear_model import LogisticRegression\n",
    "from sklearn.naive_bayes import GaussianNB\n",
    "from sklearn.ensemble import BaggingClassifier\n",
    "from sklearn.discriminant_analysis import QuadraticDiscriminantAnalysis\n",
    "from sklearn.ensemble import VotingClassifier\n",
    "from sklearn.ensemble import StackingClassifier\n",
    "from sklearn.model_selection import cross_val_score"
   ]
  },
  {
   "cell_type": "code",
   "execution_count": 366,
   "id": "474168e3",
   "metadata": {},
   "outputs": [],
   "source": [
    "def get_ensemble_Voting():\n",
    "    models = list()\n",
    "    models.append(('ADA',AdaBoostClassifier()))\n",
    "    #models.append(('KNN',KNeighborsClassifier(n_neighbors=4)))\n",
    "    #models.append(('BAG',BaggingClassifier()))\n",
    "    models.append(('QDA',QuadraticDiscriminantAnalysis()))\n",
    "    models.append(('GNB',GaussianNB()))\n",
    "    models.append(('LOG',LogisticRegression()))\n",
    "    enb_clf = VotingClassifier(estimators= models,voting='soft')\n",
    "    return enb_clf\n",
    "    "
   ]
  },
  {
   "cell_type": "code",
   "execution_count": 367,
   "id": "50877cce",
   "metadata": {},
   "outputs": [],
   "source": [
    "def get_ensemble_Stacking():\n",
    "    models = list()\n",
    "    models.append(('ADA',AdaBoostClassifier()))\n",
    "   #models.append(('KNN',KNeighborsClassifier()))\n",
    "   #models.append(('BAG',BaggingClassifier()))\n",
    "    models.append(('QDA',QuadraticDiscriminantAnalysis()))\n",
    "    models.append(('GNB',GaussianNB()))\n",
    "    models.append(('LOG',LogisticRegression()))\n",
    "    enb_clf = StackingClassifier(estimators= models,final_estimator=LogisticRegression())\n",
    "    return enb_clf"
   ]
  },
  {
   "cell_type": "code",
   "execution_count": 368,
   "id": "048f9cb4",
   "metadata": {},
   "outputs": [],
   "source": [
    "def get_models():\n",
    "    models= dict()\n",
    "    models['ADA'] = AdaBoostClassifier()\n",
    "    models['KNN'] = KNeighborsClassifier()\n",
    "    models['BAG']=BaggingClassifier()\n",
    "    models['QDA'] = QuadraticDiscriminantAnalysis()\n",
    "    models['GNB'] = GaussianNB()\n",
    "    models['LOG'] = LogisticRegression()\n",
    "    models['ENSM_VOT'] = get_ensemble_Voting()\n",
    "    models['ENSM_STK'] = get_ensemble_Stacking()\n",
    "    \n",
    "    return models"
   ]
  },
  {
   "cell_type": "code",
   "execution_count": 369,
   "id": "f0620513",
   "metadata": {},
   "outputs": [],
   "source": [
    "def model_eval(model,X,y):\n",
    "    cv_score = cross_val_score(model,X,y,cv=4,scoring='accuracy')\n",
    "    return cv_score"
   ]
  },
  {
   "cell_type": "code",
   "execution_count": 370,
   "id": "4d1a4258",
   "metadata": {},
   "outputs": [
    {
     "name": "stdout",
     "output_type": "stream",
     "text": [
      "Model Name: ADA , Score: 0.8085 , Dev : 0.0184\n",
      "Model Name: KNN , Score: 0.7497 , Dev : 0.0911\n",
      "Model Name: BAG , Score: 0.7938 , Dev : 0.0130\n",
      "Model Name: QDA , Score: 0.8085 , Dev : 0.0184\n",
      "Model Name: GNB , Score: 0.8085 , Dev : 0.0184\n",
      "Model Name: LOG , Score: 0.8085 , Dev : 0.0184\n",
      "Model Name: ENSM_VOT , Score: 0.8085 , Dev : 0.0184\n",
      "Model Name: ENSM_STK , Score: 0.8085 , Dev : 0.0184\n"
     ]
    },
    {
     "data": {
      "text/plain": [
       "{'whiskers': [<matplotlib.lines.Line2D at 0x266c3c8db50>,\n",
       "  <matplotlib.lines.Line2D at 0x266c3c8dd00>,\n",
       "  <matplotlib.lines.Line2D at 0x266c3cac130>,\n",
       "  <matplotlib.lines.Line2D at 0x266c3cac400>,\n",
       "  <matplotlib.lines.Line2D at 0x266c3cb57f0>,\n",
       "  <matplotlib.lines.Line2D at 0x266c3cb5ac0>,\n",
       "  <matplotlib.lines.Line2D at 0x266c3cc3eb0>,\n",
       "  <matplotlib.lines.Line2D at 0x266c3ccf1c0>,\n",
       "  <matplotlib.lines.Line2D at 0x266c3cdb5b0>,\n",
       "  <matplotlib.lines.Line2D at 0x266c3cdb880>,\n",
       "  <matplotlib.lines.Line2D at 0x266c3ce8c70>,\n",
       "  <matplotlib.lines.Line2D at 0x266c3ce8f40>,\n",
       "  <matplotlib.lines.Line2D at 0x266c3d01370>,\n",
       "  <matplotlib.lines.Line2D at 0x266c3d01640>,\n",
       "  <matplotlib.lines.Line2D at 0x266c3d0fa30>,\n",
       "  <matplotlib.lines.Line2D at 0x266c3d0fd00>],\n",
       " 'caps': [<matplotlib.lines.Line2D at 0x266c3c8dfd0>,\n",
       "  <matplotlib.lines.Line2D at 0x266c3ca02e0>,\n",
       "  <matplotlib.lines.Line2D at 0x266c3cac6d0>,\n",
       "  <matplotlib.lines.Line2D at 0x266c3cac9a0>,\n",
       "  <matplotlib.lines.Line2D at 0x266c3cb5d90>,\n",
       "  <matplotlib.lines.Line2D at 0x266c3cc30a0>,\n",
       "  <matplotlib.lines.Line2D at 0x266c3ccf490>,\n",
       "  <matplotlib.lines.Line2D at 0x266c3ccf760>,\n",
       "  <matplotlib.lines.Line2D at 0x266c3cdbb50>,\n",
       "  <matplotlib.lines.Line2D at 0x266c3cdbe20>,\n",
       "  <matplotlib.lines.Line2D at 0x266c3cf5250>,\n",
       "  <matplotlib.lines.Line2D at 0x266c3cf5520>,\n",
       "  <matplotlib.lines.Line2D at 0x266c3d01910>,\n",
       "  <matplotlib.lines.Line2D at 0x266c3d01be0>,\n",
       "  <matplotlib.lines.Line2D at 0x266c3d0ffd0>,\n",
       "  <matplotlib.lines.Line2D at 0x266c3d1a2e0>],\n",
       " 'boxes': [<matplotlib.lines.Line2D at 0x266c3c8d040>,\n",
       "  <matplotlib.lines.Line2D at 0x266c3ca0e20>,\n",
       "  <matplotlib.lines.Line2D at 0x266c3cb5520>,\n",
       "  <matplotlib.lines.Line2D at 0x266c3cc3be0>,\n",
       "  <matplotlib.lines.Line2D at 0x266c3cdb2e0>,\n",
       "  <matplotlib.lines.Line2D at 0x266c3ce89a0>,\n",
       "  <matplotlib.lines.Line2D at 0x266c3d010a0>,\n",
       "  <matplotlib.lines.Line2D at 0x266c3d0f760>],\n",
       " 'medians': [<matplotlib.lines.Line2D at 0x266c3ca05b0>,\n",
       "  <matplotlib.lines.Line2D at 0x266c3cacc70>,\n",
       "  <matplotlib.lines.Line2D at 0x266c3cc3370>,\n",
       "  <matplotlib.lines.Line2D at 0x266c3ccfa30>,\n",
       "  <matplotlib.lines.Line2D at 0x266c3ce8130>,\n",
       "  <matplotlib.lines.Line2D at 0x266c3cf57f0>,\n",
       "  <matplotlib.lines.Line2D at 0x266c3d01eb0>,\n",
       "  <matplotlib.lines.Line2D at 0x266c3d1a5b0>],\n",
       " 'fliers': [<matplotlib.lines.Line2D at 0x266c3ca0b50>,\n",
       "  <matplotlib.lines.Line2D at 0x266c3cb5250>,\n",
       "  <matplotlib.lines.Line2D at 0x266c3cc3910>,\n",
       "  <matplotlib.lines.Line2D at 0x266c3ccffd0>,\n",
       "  <matplotlib.lines.Line2D at 0x266c3ce86d0>,\n",
       "  <matplotlib.lines.Line2D at 0x266c3cf5d90>,\n",
       "  <matplotlib.lines.Line2D at 0x266c3d0f490>,\n",
       "  <matplotlib.lines.Line2D at 0x266c3d1ab50>],\n",
       " 'means': [<matplotlib.lines.Line2D at 0x266c3ca0880>,\n",
       "  <matplotlib.lines.Line2D at 0x266c3cacf40>,\n",
       "  <matplotlib.lines.Line2D at 0x266c3cc3640>,\n",
       "  <matplotlib.lines.Line2D at 0x266c3ccfd00>,\n",
       "  <matplotlib.lines.Line2D at 0x266c3ce8400>,\n",
       "  <matplotlib.lines.Line2D at 0x266c3cf5ac0>,\n",
       "  <matplotlib.lines.Line2D at 0x266c3d0f1c0>,\n",
       "  <matplotlib.lines.Line2D at 0x266c3d1a880>]}"
      ]
     },
     "execution_count": 370,
     "metadata": {},
     "output_type": "execute_result"
    },
    {
     "data": {
      "image/png": "[encoded data removed]",
      "text/plain": [
       "<Figure size 432x288 with 1 Axes>"
      ]
     },
     "metadata": {
      "needs_background": "light"
     },
     "output_type": "display_data"
    }
   ],
   "source": [
    "name,score = list(),list()\n",
    "models = get_models()\n",
    "for nm,mod in models.items():\n",
    "    name.append(nm)\n",
    "    sr = model_eval(mod,data_train_IF_ENC_LOG_MMS_KBest,data_train_target)\n",
    "    score.append(sr)\n",
    "    print(\"Model Name: {0} , Score: {1:.4f} , Dev : {2:.4f}\".format(nm,np.mean(sr),np.std(sr)))\n",
    "plt.boxplot(score,labels=name,showmeans=True)"
   ]
  },
  {
   "cell_type": "code",
   "execution_count": 371,
   "id": "87f017b7",
   "metadata": {},
   "outputs": [],
   "source": [
    "vot_clf = get_ensemble_Voting()\n",
    "vot_clf.fit(data_train_IF_ENC_LOG_MMS_KBest,data_train_target)\n",
    "y_pred_ENSMBL =vot_clf.predict(data_test_IF_ENC_LOG_MMS_KBest)\n",
    "y_pred_ENSMBL_cat=  [('Y' if item == 1 else 'N' ) for item in y_pred_ENSMBL]\n",
    "Submission_lr_mod= pd.DataFrame(tuple(zip(data_test_LoanID,y_pred_ENSMBL_cat)),columns = ['Loan_ID','Loan_Status'])\n",
    "filepath = Path('C:\\\\Users\\\\anshu\\\\Desktop\\\\JAT\\\\Loan Predictions\\\\submission_ENSMBL__IF_ENC_LOG_MMS_KBest.csv') \n",
    "Submission_lr_mod.to_csv(filepath,index=False)"
   ]
  },
  {
   "cell_type": "code",
   "execution_count": null,
   "id": "8da35f46",
   "metadata": {},
   "outputs": [],
   "source": []
  }
 ],
 "metadata": {
  "kernelspec": {
   "display_name": "Python 3 (ipykernel)",
   "language": "python",
   "name": "python3"
  },
  "language_info": {
   "codemirror_mode": {
    "name": "ipython",
    "version": 3
   },
   "file_extension": ".py",
   "mimetype": "text/x-python",
   "name": "python",
   "nbconvert_exporter": "python",
   "pygments_lexer": "ipython3",
   "version": "3.9.12"
  }
 },
 "nbformat": 4,
 "nbformat_minor": 5
}
